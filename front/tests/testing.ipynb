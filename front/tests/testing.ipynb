{
 "cells": [
  {
   "cell_type": "code",
   "execution_count": 30,
   "metadata": {},
   "outputs": [],
   "source": [
    "import pandas as pd\n",
    "import numpy as np\n",
    "import matplotlib.pyplot as plt\n",
    "import warnings\n",
    "from tqdm import tqdm\n",
    "import plotly.express as px\n",
    "\n",
    "\n",
    "\n",
    "warnings.simplefilter(action='ignore')\n",
    "tqdm.pandas()\n",
    "plt.style.use('ggplot')\n",
    "pd.set_option('use_inf_as_na', True)\n",
    "plt.rcParams['figure.figsize'] = (15,6)"
   ]
  },
  {
   "cell_type": "code",
   "execution_count": 8,
   "metadata": {},
   "outputs": [],
   "source": [
    "import yfinance as yf"
   ]
  },
  {
   "cell_type": "code",
   "execution_count": 9,
   "metadata": {},
   "outputs": [
    {
     "name": "stdout",
     "output_type": "stream",
     "text": [
      "[*********************100%***********************]  1 of 1 completed\n"
     ]
    }
   ],
   "source": [
    "df2 = yf.download('TSLA','2021-01-01')"
   ]
  },
  {
   "cell_type": "code",
   "execution_count": 10,
   "metadata": {},
   "outputs": [
    {
     "name": "stdout",
     "output_type": "stream",
     "text": [
      "[*********************100%***********************]  1 of 1 completed\n"
     ]
    }
   ],
   "source": [
    "df = yf.download('AAPL','2021-01-01')"
   ]
  },
  {
   "cell_type": "code",
   "execution_count": 11,
   "metadata": {},
   "outputs": [],
   "source": [
    "df['hl_diff'] = df['High'] - df['Low']\n",
    "df['oc_diff'] = df['Open'] - df['Close']"
   ]
  },
  {
   "cell_type": "code",
   "execution_count": 12,
   "metadata": {},
   "outputs": [],
   "source": [
    "df2['hl_diff'] = df2['High'] - df2['Low']\n",
    "df2['oc_diff'] = df2['Open'] - df2['Close']"
   ]
  },
  {
   "cell_type": "code",
   "execution_count": 13,
   "metadata": {},
   "outputs": [
    {
     "data": {
      "text/html": [
       "<div>\n",
       "<style scoped>\n",
       "    .dataframe tbody tr th:only-of-type {\n",
       "        vertical-align: middle;\n",
       "    }\n",
       "\n",
       "    .dataframe tbody tr th {\n",
       "        vertical-align: top;\n",
       "    }\n",
       "\n",
       "    .dataframe thead th {\n",
       "        text-align: right;\n",
       "    }\n",
       "</style>\n",
       "<table border=\"1\" class=\"dataframe\">\n",
       "  <thead>\n",
       "    <tr style=\"text-align: right;\">\n",
       "      <th></th>\n",
       "      <th>Open</th>\n",
       "      <th>High</th>\n",
       "      <th>Low</th>\n",
       "      <th>Close</th>\n",
       "      <th>Adj Close</th>\n",
       "      <th>Volume</th>\n",
       "      <th>hl_diff</th>\n",
       "      <th>oc_diff</th>\n",
       "    </tr>\n",
       "  </thead>\n",
       "  <tbody>\n",
       "    <tr>\n",
       "      <th>Open</th>\n",
       "      <td>1.000000</td>\n",
       "      <td>0.997467</td>\n",
       "      <td>0.996447</td>\n",
       "      <td>0.992657</td>\n",
       "      <td>0.992637</td>\n",
       "      <td>-0.022679</td>\n",
       "      <td>0.294117</td>\n",
       "      <td>0.021070</td>\n",
       "    </tr>\n",
       "    <tr>\n",
       "      <th>High</th>\n",
       "      <td>0.997467</td>\n",
       "      <td>1.000000</td>\n",
       "      <td>0.996168</td>\n",
       "      <td>0.996415</td>\n",
       "      <td>0.996325</td>\n",
       "      <td>0.003182</td>\n",
       "      <td>0.325240</td>\n",
       "      <td>-0.030824</td>\n",
       "    </tr>\n",
       "    <tr>\n",
       "      <th>Low</th>\n",
       "      <td>0.996447</td>\n",
       "      <td>0.996168</td>\n",
       "      <td>1.000000</td>\n",
       "      <td>0.996275</td>\n",
       "      <td>0.996368</td>\n",
       "      <td>-0.063045</td>\n",
       "      <td>0.241287</td>\n",
       "      <td>-0.038058</td>\n",
       "    </tr>\n",
       "    <tr>\n",
       "      <th>Close</th>\n",
       "      <td>0.992657</td>\n",
       "      <td>0.996415</td>\n",
       "      <td>0.996275</td>\n",
       "      <td>1.000000</td>\n",
       "      <td>0.999952</td>\n",
       "      <td>-0.034448</td>\n",
       "      <td>0.284303</td>\n",
       "      <td>-0.100023</td>\n",
       "    </tr>\n",
       "    <tr>\n",
       "      <th>Adj Close</th>\n",
       "      <td>0.992637</td>\n",
       "      <td>0.996325</td>\n",
       "      <td>0.996368</td>\n",
       "      <td>0.999952</td>\n",
       "      <td>1.000000</td>\n",
       "      <td>-0.036752</td>\n",
       "      <td>0.282306</td>\n",
       "      <td>-0.099789</td>\n",
       "    </tr>\n",
       "    <tr>\n",
       "      <th>Volume</th>\n",
       "      <td>-0.022679</td>\n",
       "      <td>0.003182</td>\n",
       "      <td>-0.063045</td>\n",
       "      <td>-0.034448</td>\n",
       "      <td>-0.036752</td>\n",
       "      <td>1.000000</td>\n",
       "      <td>0.716945</td>\n",
       "      <td>0.098173</td>\n",
       "    </tr>\n",
       "    <tr>\n",
       "      <th>hl_diff</th>\n",
       "      <td>0.294117</td>\n",
       "      <td>0.325240</td>\n",
       "      <td>0.241287</td>\n",
       "      <td>0.284303</td>\n",
       "      <td>0.282306</td>\n",
       "      <td>0.716945</td>\n",
       "      <td>1.000000</td>\n",
       "      <td>0.069459</td>\n",
       "    </tr>\n",
       "    <tr>\n",
       "      <th>oc_diff</th>\n",
       "      <td>0.021070</td>\n",
       "      <td>-0.030824</td>\n",
       "      <td>-0.038058</td>\n",
       "      <td>-0.100023</td>\n",
       "      <td>-0.099789</td>\n",
       "      <td>0.098173</td>\n",
       "      <td>0.069459</td>\n",
       "      <td>1.000000</td>\n",
       "    </tr>\n",
       "  </tbody>\n",
       "</table>\n",
       "</div>"
      ],
      "text/plain": [
       "               Open      High       Low     Close  Adj Close    Volume  \\\n",
       "Open       1.000000  0.997467  0.996447  0.992657   0.992637 -0.022679   \n",
       "High       0.997467  1.000000  0.996168  0.996415   0.996325  0.003182   \n",
       "Low        0.996447  0.996168  1.000000  0.996275   0.996368 -0.063045   \n",
       "Close      0.992657  0.996415  0.996275  1.000000   0.999952 -0.034448   \n",
       "Adj Close  0.992637  0.996325  0.996368  0.999952   1.000000 -0.036752   \n",
       "Volume    -0.022679  0.003182 -0.063045 -0.034448  -0.036752  1.000000   \n",
       "hl_diff    0.294117  0.325240  0.241287  0.284303   0.282306  0.716945   \n",
       "oc_diff    0.021070 -0.030824 -0.038058 -0.100023  -0.099789  0.098173   \n",
       "\n",
       "            hl_diff   oc_diff  \n",
       "Open       0.294117  0.021070  \n",
       "High       0.325240 -0.030824  \n",
       "Low        0.241287 -0.038058  \n",
       "Close      0.284303 -0.100023  \n",
       "Adj Close  0.282306 -0.099789  \n",
       "Volume     0.716945  0.098173  \n",
       "hl_diff    1.000000  0.069459  \n",
       "oc_diff    0.069459  1.000000  "
      ]
     },
     "execution_count": 13,
     "metadata": {},
     "output_type": "execute_result"
    }
   ],
   "source": [
    "df.corr()\n",
    "#volume - min max rate corr\n",
    "#hl diff --> relate with high"
   ]
  },
  {
   "cell_type": "code",
   "execution_count": 14,
   "metadata": {},
   "outputs": [
    {
     "data": {
      "text/html": [
       "<div>\n",
       "<style scoped>\n",
       "    .dataframe tbody tr th:only-of-type {\n",
       "        vertical-align: middle;\n",
       "    }\n",
       "\n",
       "    .dataframe tbody tr th {\n",
       "        vertical-align: top;\n",
       "    }\n",
       "\n",
       "    .dataframe thead th {\n",
       "        text-align: right;\n",
       "    }\n",
       "</style>\n",
       "<table border=\"1\" class=\"dataframe\">\n",
       "  <thead>\n",
       "    <tr style=\"text-align: right;\">\n",
       "      <th></th>\n",
       "      <th>Open</th>\n",
       "      <th>High</th>\n",
       "      <th>Low</th>\n",
       "      <th>Close</th>\n",
       "      <th>Adj Close</th>\n",
       "      <th>Volume</th>\n",
       "      <th>hl_diff</th>\n",
       "      <th>oc_diff</th>\n",
       "    </tr>\n",
       "  </thead>\n",
       "  <tbody>\n",
       "    <tr>\n",
       "      <th>Open</th>\n",
       "      <td>1.000000</td>\n",
       "      <td>0.996265</td>\n",
       "      <td>0.993727</td>\n",
       "      <td>0.988319</td>\n",
       "      <td>0.988319</td>\n",
       "      <td>0.003735</td>\n",
       "      <td>0.553957</td>\n",
       "      <td>0.086219</td>\n",
       "    </tr>\n",
       "    <tr>\n",
       "      <th>High</th>\n",
       "      <td>0.996265</td>\n",
       "      <td>1.000000</td>\n",
       "      <td>0.993887</td>\n",
       "      <td>0.994629</td>\n",
       "      <td>0.994629</td>\n",
       "      <td>0.040519</td>\n",
       "      <td>0.582290</td>\n",
       "      <td>0.020517</td>\n",
       "    </tr>\n",
       "    <tr>\n",
       "      <th>Low</th>\n",
       "      <td>0.993727</td>\n",
       "      <td>0.993887</td>\n",
       "      <td>1.000000</td>\n",
       "      <td>0.995139</td>\n",
       "      <td>0.995139</td>\n",
       "      <td>-0.040937</td>\n",
       "      <td>0.488980</td>\n",
       "      <td>0.000569</td>\n",
       "    </tr>\n",
       "    <tr>\n",
       "      <th>Close</th>\n",
       "      <td>0.988319</td>\n",
       "      <td>0.994629</td>\n",
       "      <td>0.995139</td>\n",
       "      <td>1.000000</td>\n",
       "      <td>1.000000</td>\n",
       "      <td>0.006982</td>\n",
       "      <td>0.530636</td>\n",
       "      <td>-0.066618</td>\n",
       "    </tr>\n",
       "    <tr>\n",
       "      <th>Adj Close</th>\n",
       "      <td>0.988319</td>\n",
       "      <td>0.994629</td>\n",
       "      <td>0.995139</td>\n",
       "      <td>1.000000</td>\n",
       "      <td>1.000000</td>\n",
       "      <td>0.006982</td>\n",
       "      <td>0.530636</td>\n",
       "      <td>-0.066618</td>\n",
       "    </tr>\n",
       "    <tr>\n",
       "      <th>Volume</th>\n",
       "      <td>0.003735</td>\n",
       "      <td>0.040519</td>\n",
       "      <td>-0.040937</td>\n",
       "      <td>0.006982</td>\n",
       "      <td>0.006982</td>\n",
       "      <td>1.000000</td>\n",
       "      <td>0.621622</td>\n",
       "      <td>-0.021189</td>\n",
       "    </tr>\n",
       "    <tr>\n",
       "      <th>hl_diff</th>\n",
       "      <td>0.553957</td>\n",
       "      <td>0.582290</td>\n",
       "      <td>0.488980</td>\n",
       "      <td>0.530636</td>\n",
       "      <td>0.530636</td>\n",
       "      <td>0.621622</td>\n",
       "      <td>1.000000</td>\n",
       "      <td>0.157919</td>\n",
       "    </tr>\n",
       "    <tr>\n",
       "      <th>oc_diff</th>\n",
       "      <td>0.086219</td>\n",
       "      <td>0.020517</td>\n",
       "      <td>0.000569</td>\n",
       "      <td>-0.066618</td>\n",
       "      <td>-0.066618</td>\n",
       "      <td>-0.021189</td>\n",
       "      <td>0.157919</td>\n",
       "      <td>1.000000</td>\n",
       "    </tr>\n",
       "  </tbody>\n",
       "</table>\n",
       "</div>"
      ],
      "text/plain": [
       "               Open      High       Low     Close  Adj Close    Volume  \\\n",
       "Open       1.000000  0.996265  0.993727  0.988319   0.988319  0.003735   \n",
       "High       0.996265  1.000000  0.993887  0.994629   0.994629  0.040519   \n",
       "Low        0.993727  0.993887  1.000000  0.995139   0.995139 -0.040937   \n",
       "Close      0.988319  0.994629  0.995139  1.000000   1.000000  0.006982   \n",
       "Adj Close  0.988319  0.994629  0.995139  1.000000   1.000000  0.006982   \n",
       "Volume     0.003735  0.040519 -0.040937  0.006982   0.006982  1.000000   \n",
       "hl_diff    0.553957  0.582290  0.488980  0.530636   0.530636  0.621622   \n",
       "oc_diff    0.086219  0.020517  0.000569 -0.066618  -0.066618 -0.021189   \n",
       "\n",
       "            hl_diff   oc_diff  \n",
       "Open       0.553957  0.086219  \n",
       "High       0.582290  0.020517  \n",
       "Low        0.488980  0.000569  \n",
       "Close      0.530636 -0.066618  \n",
       "Adj Close  0.530636 -0.066618  \n",
       "Volume     0.621622 -0.021189  \n",
       "hl_diff    1.000000  0.157919  \n",
       "oc_diff    0.157919  1.000000  "
      ]
     },
     "execution_count": 14,
     "metadata": {},
     "output_type": "execute_result"
    }
   ],
   "source": [
    "df2.corr()\n",
    "#volume - min max rate corr\n",
    "#hl diff --> relate with high"
   ]
  },
  {
   "cell_type": "markdown",
   "metadata": {},
   "source": [
    "### Функции"
   ]
  },
  {
   "cell_type": "markdown",
   "metadata": {},
   "source": [
    "### Rolling"
   ]
  },
  {
   "cell_type": "code",
   "execution_count": 15,
   "metadata": {},
   "outputs": [],
   "source": [
    "def get_rolling_data(df,ma_periods=[(7,'D'),(14,'D')]):\n",
    "    '''\n",
    "    Функция подсчета средних значений по временному ряду на последний момент времени в датафрейме\n",
    "\n",
    "    df - dataframe с какими то значениями, пока что имеется в виду только один временной ряд (pd.Series)  \n",
    "    \n",
    "    ma_periods - MovingAverage лист тюплов вида (\"Период усреднения\",\"Таймстемп усреднения\")  \n",
    "    \n",
    "    '''\n",
    "    ma_list = {}\n",
    "    \n",
    "    for params in ma_periods:\n",
    "        ma_list[str(params[0])+params[1]] = df.resample(params[1]).mean().rolling(params[0],1).mean().iloc[-1]\n",
    "    return ma_list"
   ]
  },
  {
   "cell_type": "code",
   "execution_count": 16,
   "metadata": {},
   "outputs": [
    {
     "data": {
      "text/plain": [
       "True"
      ]
     },
     "execution_count": 16,
     "metadata": {},
     "output_type": "execute_result"
    }
   ],
   "source": [
    "set(map(lambda x: x>100,get_rolling_data(df['Open']).values()))=={True}"
   ]
  },
  {
   "cell_type": "code",
   "execution_count": 17,
   "metadata": {},
   "outputs": [
    {
     "data": {
      "text/plain": [
       "<AxesSubplot:xlabel='Date'>"
      ]
     },
     "execution_count": 17,
     "metadata": {},
     "output_type": "execute_result"
    },
    {
     "data": {
      "image/png": "[encoded data removed]",
      "text/plain": [
       "<Figure size 1080x432 with 1 Axes>"
      ]
     },
     "metadata": {},
     "output_type": "display_data"
    }
   ],
   "source": [
    "for params in [(7,'D'),(14,'D'),(1,'M')]:\n",
    "        df['Open'].resample(params[1]).mean().rolling(params[0],1).mean().plot()\n",
    "df['Open'].plot()"
   ]
  },
  {
   "cell_type": "markdown",
   "metadata": {},
   "source": [
    "### Sharpness"
   ]
  },
  {
   "cell_type": "code",
   "execution_count": 18,
   "metadata": {},
   "outputs": [],
   "source": [
    "def is_sharp(df):\n",
    "    '''\n",
    "    Функция проверки резкости падения\n",
    "\n",
    "    Eсли изменения в % значения t от t-1 отличается более чем на 3 стандартных отклонения, то говорим что тут какой то пиздец  \n",
    "    \n",
    "    df - pd.Series объект, где индект это datetime , а значения это наш показатель (цена)\n",
    "    \n",
    "    '''\n",
    "    return df.diff().iloc[-1]  <=  df.diff().mean() - df.diff().std()*3"
   ]
  },
  {
   "cell_type": "code",
   "execution_count": 19,
   "metadata": {},
   "outputs": [
    {
     "data": {
      "text/plain": [
       "<matplotlib.lines.Line2D at 0x7fb9f43113d0>"
      ]
     },
     "execution_count": 19,
     "metadata": {},
     "output_type": "execute_result"
    },
    {
     "data": {
      "image/png": "[encoded data removed]",
      "text/plain": [
       "<Figure size 1080x432 with 1 Axes>"
      ]
     },
     "metadata": {},
     "output_type": "display_data"
    }
   ],
   "source": [
    "df['Open'].diff().plot()\n",
    "plt.axhline(df['Open'].diff().std()*3,linestyle='--',alpha=.5,color='g')\n",
    "plt.axhline(df['Open'].diff().std()*-3,linestyle='--',alpha=.5,color='g')"
   ]
  },
  {
   "cell_type": "code",
   "execution_count": 20,
   "metadata": {},
   "outputs": [
    {
     "data": {
      "text/plain": [
       "False"
      ]
     },
     "execution_count": 20,
     "metadata": {},
     "output_type": "execute_result"
    }
   ],
   "source": [
    "is_sharp(df['Open'])"
   ]
  },
  {
   "cell_type": "code",
   "execution_count": 33,
   "metadata": {},
   "outputs": [
    {
     "data": {
      "text/plain": [
       "0.7200000000000001"
      ]
     },
     "execution_count": 33,
     "metadata": {},
     "output_type": "execute_result"
    }
   ],
   "source": [
    "(1-0.1) * (1-0.2)"
   ]
  },
  {
   "cell_type": "markdown",
   "metadata": {},
   "source": [
    "### Class"
   ]
  },
  {
   "cell_type": "code",
   "execution_count": 46,
   "metadata": {},
   "outputs": [],
   "source": [
    "class MarketWorker():\n",
    "    def __init__(self,name='Karlos',fee_rate=0.0024,profit_rate=0.01,money_limit=100,risk_margine = 0,ma_periods=[(45,'D'),(14,'D'),(7,'D')]):\n",
    "        self.name = name\n",
    "        self.sell_fee_rate = fee_rate\n",
    "        self.profit_rate = profit_rate\n",
    "        self.buy_price = None\n",
    "        self.n_deals = 0\n",
    "        self.profit = 0\n",
    "        self.price = None\n",
    "        self.log = {}\n",
    "        self.passive = money_limit\n",
    "        self.active = None\n",
    "        self.risk_margine = risk_margine\n",
    "        self.ttl_profit = 0\n",
    "        self.ma_periods = ma_periods\n",
    "\n",
    "    def check_rolling(self):\n",
    "\n",
    "        self.rolling_values = get_rolling_data(self.df)\n",
    "        return set(\n",
    "                    map(lambda x: x > self.price * (1-self.profit_rate) * (1-self.risk_margine),\n",
    "                        self.rolling_values.values())\n",
    "                    )=={True}\n",
    "\n",
    "\n",
    "    def check_sharpness(self):\n",
    "        is_sharp(self.df)\n",
    "    \n",
    "\n",
    "    def check_buy_shit(self):\n",
    "\n",
    "        if self.check_rolling():\n",
    "            self.buy_shit()\n",
    "    \n",
    "\n",
    "    def check_sell_shit(self):\n",
    "        if (self.price / self.buy_price -1) > (self.profit_rate + self.sell_fee_rate):\n",
    "            self.sell_shit()\n",
    "    \n",
    "\n",
    "\n",
    "\n",
    "\n",
    "    def buy_shit(self):\n",
    "        self.buy_price = self.price\n",
    "        self.active = self.passive\n",
    "        self.passive = 0\n",
    "        # print(f'{self.df.index[-1]} buy price :{self.buy_price}')\n",
    "\n",
    "\n",
    "\n",
    "\n",
    "    def sell_shit(self):\n",
    "        self.profit = self.active * (self.price / self.buy_price ) *(1-self.sell_fee_rate)\n",
    "        self.n_deals+=1\n",
    "        self.ttl_profit+=self.profit\n",
    "        self.passive += self.profit\n",
    "        self.active = 0\n",
    "        # print(f'{self.df.index[-1]} sell price :{self.price}')\n",
    "\n",
    "    def scan(self,data):\n",
    "\n",
    "        self.df = data\n",
    "\n",
    "        self.price = self.df.iloc[-1]\n",
    "        \n",
    "        if self.passive>0:\n",
    "            self.check_buy_shit()\n",
    "        else:\n",
    "            self.check_sell_shit()\n",
    "\n",
    "        self.log[self.df.index[-1]] = {\n",
    "                                        'buy_price':self.buy_price,\n",
    "                                        'profit':self.profit ,\n",
    "                                        'ttl_profit':self.ttl_profit ,\n",
    "                                        'n_deals':self.n_deals,\n",
    "                                        'current_price':self.price,\n",
    "                                        'passive':self.passive,\n",
    "                                        'active':self.active,\n",
    "                                        'checkpoints':self.rolling_values}\n",
    "        "
   ]
  },
  {
   "cell_type": "code",
   "execution_count": 47,
   "metadata": {},
   "outputs": [],
   "source": [
    "agent = MarketWorker()\n",
    "agent_2 = MarketWorker(profit_rate=.1)\n",
    "agent_3 = MarketWorker(risk_margine=.02,profit_rate=.1)"
   ]
  },
  {
   "cell_type": "code",
   "execution_count": 48,
   "metadata": {},
   "outputs": [],
   "source": [
    "start = np.random.randint(0,90)\n",
    "end = np.random.randint(90,150)\n",
    "for i in range(90):\n",
    "    agent.scan(df2['Open'].iloc[start:-end+i])\n",
    "    agent_2.scan(df2['Open'].iloc[start:-end+i])\n",
    "    agent_3.scan(df2['Open'].iloc[start:-end+i])"
   ]
  },
  {
   "cell_type": "code",
   "execution_count": 49,
   "metadata": {},
   "outputs": [
    {
     "name": "stdout",
     "output_type": "stream",
     "text": [
      "profit : 1169.251736540008\n"
     ]
    },
    {
     "data": {
      "image/png": "[encoded data removed]",
      "text/plain": [
       "<Figure size 1080x432 with 1 Axes>"
      ]
     },
     "metadata": {},
     "output_type": "display_data"
    }
   ],
   "source": [
    "agent.df.plot()\n",
    "plt.axvline(df['Open'].index[-end],linestyle='--')\n",
    "plt.axvline(df['Open'].index[start],linestyle='--',color='g')\n",
    "[plt.axvline(x,color='g',alpha=.35) for x in pd.DataFrame(agent.log).T['n_deals'].diff().where(lambda x: x==1).dropna().index]\n",
    "[plt.axvline(x,color='b',alpha=.35) for x in pd.DataFrame(agent.log).T['active'].fillna(0).diff().where(lambda x: x>0).dropna().index]\n",
    "print(f'profit : {agent.ttl_profit}')\n"
   ]
  },
  {
   "cell_type": "code",
   "execution_count": 50,
   "metadata": {},
   "outputs": [
    {
     "name": "stdout",
     "output_type": "stream",
     "text": [
      "profit : 384.1645758770893\n"
     ]
    },
    {
     "data": {
      "image/png": "[encoded data removed]",
      "text/plain": [
       "<Figure size 1080x432 with 1 Axes>"
      ]
     },
     "metadata": {},
     "output_type": "display_data"
    }
   ],
   "source": [
    "agent_2.df.plot()\n",
    "plt.axvline(df['Open'].index[-end],linestyle='--',color='r')\n",
    "plt.axvline(df['Open'].index[start],linestyle='--',color='g')\n",
    "[plt.axvline(x,color='g',alpha=.35) for x in pd.DataFrame(agent_2.log).T['n_deals'].diff().where(lambda x: x==1).dropna().index]\n",
    "[plt.axvline(x,color='b',alpha=.35) for x in pd.DataFrame(agent_2.log).T['active'].fillna(0).diff().where(lambda x: x>0).dropna().index]\n",
    "print(f'profit : {agent_2.ttl_profit}')\n"
   ]
  },
  {
   "cell_type": "code",
   "execution_count": 51,
   "metadata": {},
   "outputs": [
    {
     "name": "stdout",
     "output_type": "stream",
     "text": [
      "profit : 384.1645758770893\n"
     ]
    },
    {
     "data": {
      "image/png": "[encoded data removed]",
      "text/plain": [
       "<Figure size 1080x432 with 1 Axes>"
      ]
     },
     "metadata": {},
     "output_type": "display_data"
    }
   ],
   "source": [
    "agent_3.df.plot()\n",
    "plt.axvline(df['Open'].index[-end],linestyle='--')\n",
    "plt.axvline(df['Open'].index[start],linestyle='--',color='g')\n",
    "[plt.axvline(x,color='g',alpha=.35) for x in pd.DataFrame(agent_3.log).T['n_deals'].diff().where(lambda x: x==1).dropna().index]\n",
    "[plt.axvline(x,color='b',alpha=.35) for x in pd.DataFrame(agent_3.log).T['active'].fillna(0).diff().where(lambda x: x>0).dropna().index]\n",
    "print(f'profit : {agent_3.ttl_profit}')\n"
   ]
  },
  {
   "cell_type": "code",
   "execution_count": 53,
   "metadata": {},
   "outputs": [
    {
     "name": "stderr",
     "output_type": "stream",
     "text": [
      "100%|██████████| 20/20 [00:40<00:00,  2.05s/it]\n"
     ]
    }
   ],
   "source": [
    "tt = []\n",
    "for _ in tqdm(range(20)):\n",
    "    grid_space = pd.DataFrame()\n",
    "    start = np.random.randint(0,90)\n",
    "    end = np.random.randint(90,150)\n",
    "    for risk in np.arange(0,0.05,0.01):\n",
    "        for profit in np.arange(0.01,.21,.01):\n",
    "            agent = MarketWorker(risk_margine=risk,profit_rate=profit)\n",
    "            for i in range(90):  \n",
    "                agent.scan(df2['Open'].iloc[start:-end+i])\n",
    "            grid_space.loc[risk,profit] = agent.ttl_profit\n",
    "    tt.append({'profit':grid_space.max(axis=0).idxmax(),'risk':grid_space.max(axis=1).idxmax(),'ttl_gain_90_days':grid_space.max(axis=0).max()})"
   ]
  },
  {
   "cell_type": "code",
   "execution_count": 54,
   "metadata": {},
   "outputs": [
    {
     "data": {
      "application/vnd.plotly.v1+json": {
       "config": {
        "plotlyServerURL": "https://plot.ly"
       },
       "data": [
        {
         "coloraxis": "coloraxis",
         "hovertemplate": "x: %{x}<br>y: %{y}<br>color: %{z}<extra></extra>",
         "name": "0",
         "type": "heatmap",
         "x": [
          0.01,
          0.02,
          0.03,
          0.04,
          0.05,
          0.060000000000000005,
          0.06999999999999999,
          0.08,
          0.09,
          0.09999999999999999,
          0.11,
          0.12,
          0.13,
          0.14,
          0.15000000000000002,
          0.16,
          0.17,
          0.18000000000000002,
          0.19,
          0.2
         ],
         "xaxis": "x",
         "y": [
          0,
          0.01,
          0.02,
          0.03,
          0.04
         ],
         "yaxis": "y",
         "z": [
          [
           1169.251736540008,
           543.3641942685751,
           558.0281732562215,
           572.3443960953891,
           478.56165498679485,
           478.5300815928566,
           481.34820606580394,
           362.67110549539103,
           371.7282224172342,
           382.36933959264576,
           385.13649007114793,
           383.05409625872517,
           397.96383342163097,
           404.0963547776989,
           420.1661108900812,
           420.1661108900812,
           261.7599405930332,
           261.7599405930332,
           265.6673151519118,
           265.6673151519118
          ],
          [
           1277.507161190305,
           549.8050609733881,
           682.8321041018975,
           445.65623701862097,
           477.0955784203014,
           478.5300815928566,
           481.34820606580394,
           362.67110549539103,
           371.7282224172342,
           382.36933959264576,
           385.13649007114793,
           546.0267112195877,
           396.82654086526645,
           399.0171704493421,
           420.1661108900812,
           420.1661108900812,
           261.7599405930332,
           261.7599405930332,
           265.6673151519118,
           265.6673151519118
          ],
          [
           1565.2690090831018,
           671.6770732241084,
           682.8321041018975,
           446.24356294786367,
           477.0955784203014,
           478.5300815928566,
           481.34820606580394,
           362.67110549539103,
           371.7282224172342,
           382.36933959264576,
           553.3962412987902,
           546.0267112195877,
           399.0171704493421,
           399.0171704493421,
           420.1661108900812,
           420.1661108900812,
           261.7599405930332,
           261.7599405930332,
           265.6673151519118,
           265.6673151519118
          ],
          [
           1728.9508399662482,
           671.0401366359641,
           681.4752810194746,
           446.24356294786367,
           475.23260286552465,
           478.5300815928566,
           481.34820606580394,
           362.67110549539103,
           371.7282224172342,
           549.7307465007855,
           549.5807862620368,
           546.0267112195877,
           399.0171704493421,
           399.0171704493421,
           420.1661108900812,
           420.1661108900812,
           261.7599405930332,
           261.7599405930332,
           265.6673151519118,
           265.6673151519118
          ],
          [
           1469.3810449419248,
           669.7201085597056,
           681.4752810194746,
           446.24356294786367,
           475.23260286552465,
           478.5300815928566,
           481.34820606580394,
           362.67110549539103,
           526.9771778166025,
           545.9356623033658,
           549.5807862620368,
           546.0267112195877,
           399.0171704493421,
           399.0171704493421,
           420.1661108900812,
           420.1661108900812,
           261.7599405930332,
           261.7599405930332,
           265.6673151519118,
           265.6673151519118
          ]
         ]
        }
       ],
       "layout": {
        "coloraxis": {
         "colorscale": [
          [
           0,
           "#0d0887"
          ],
          [
           0.1111111111111111,
           "#46039f"
          ],
          [
           0.2222222222222222,
           "#7201a8"
          ],
          [
           0.3333333333333333,
           "#9c179e"
          ],
          [
           0.4444444444444444,
           "#bd3786"
          ],
          [
           0.5555555555555556,
           "#d8576b"
          ],
          [
           0.6666666666666666,
           "#ed7953"
          ],
          [
           0.7777777777777778,
           "#fb9f3a"
          ],
          [
           0.8888888888888888,
           "#fdca26"
          ],
          [
           1,
           "#f0f921"
          ]
         ]
        },
        "margin": {
         "t": 60
        },
        "template": {
         "data": {
          "bar": [
           {
            "error_x": {
             "color": "#2a3f5f"
            },
            "error_y": {
             "color": "#2a3f5f"
            },
            "marker": {
             "line": {
              "color": "#E5ECF6",
              "width": 0.5
             },
             "pattern": {
              "fillmode": "overlay",
              "size": 10,
              "solidity": 0.2
             }
            },
            "type": "bar"
           }
          ],
          "barpolar": [
           {
            "marker": {
             "line": {
              "color": "#E5ECF6",
              "width": 0.5
             },
             "pattern": {
              "fillmode": "overlay",
              "size": 10,
              "solidity": 0.2
             }
            },
            "type": "barpolar"
           }
          ],
          "carpet": [
           {
            "aaxis": {
             "endlinecolor": "#2a3f5f",
             "gridcolor": "white",
             "linecolor": "white",
             "minorgridcolor": "white",
             "startlinecolor": "#2a3f5f"
            },
            "baxis": {
             "endlinecolor": "#2a3f5f",
             "gridcolor": "white",
             "linecolor": "white",
             "minorgridcolor": "white",
             "startlinecolor": "#2a3f5f"
            },
            "type": "carpet"
           }
          ],
          "choropleth": [
           {
            "colorbar": {
             "outlinewidth": 0,
             "ticks": ""
            },
            "type": "choropleth"
           }
          ],
          "contour": [
           {
            "colorbar": {
             "outlinewidth": 0,
             "ticks": ""
            },
            "colorscale": [
             [
              0,
              "#0d0887"
             ],
             [
              0.1111111111111111,
              "#46039f"
             ],
             [
              0.2222222222222222,
              "#7201a8"
             ],
             [
              0.3333333333333333,
              "#9c179e"
             ],
             [
              0.4444444444444444,
              "#bd3786"
             ],
             [
              0.5555555555555556,
              "#d8576b"
             ],
             [
              0.6666666666666666,
              "#ed7953"
             ],
             [
              0.7777777777777778,
              "#fb9f3a"
             ],
             [
              0.8888888888888888,
              "#fdca26"
             ],
             [
              1,
              "#f0f921"
             ]
            ],
            "type": "contour"
           }
          ],
          "contourcarpet": [
           {
            "colorbar": {
             "outlinewidth": 0,
             "ticks": ""
            },
            "type": "contourcarpet"
           }
          ],
          "heatmap": [
           {
            "colorbar": {
             "outlinewidth": 0,
             "ticks": ""
            },
            "colorscale": [
             [
              0,
              "#0d0887"
             ],
             [
              0.1111111111111111,
              "#46039f"
             ],
             [
              0.2222222222222222,
              "#7201a8"
             ],
             [
              0.3333333333333333,
              "#9c179e"
             ],
             [
              0.4444444444444444,
              "#bd3786"
             ],
             [
              0.5555555555555556,
              "#d8576b"
             ],
             [
              0.6666666666666666,
              "#ed7953"
             ],
             [
              0.7777777777777778,
              "#fb9f3a"
             ],
             [
              0.8888888888888888,
              "#fdca26"
             ],
             [
              1,
              "#f0f921"
             ]
            ],
            "type": "heatmap"
           }
          ],
          "heatmapgl": [
           {
            "colorbar": {
             "outlinewidth": 0,
             "ticks": ""
            },
            "colorscale": [
             [
              0,
              "#0d0887"
             ],
             [
              0.1111111111111111,
              "#46039f"
             ],
             [
              0.2222222222222222,
              "#7201a8"
             ],
             [
              0.3333333333333333,
              "#9c179e"
             ],
             [
              0.4444444444444444,
              "#bd3786"
             ],
             [
              0.5555555555555556,
              "#d8576b"
             ],
             [
              0.6666666666666666,
              "#ed7953"
             ],
             [
              0.7777777777777778,
              "#fb9f3a"
             ],
             [
              0.8888888888888888,
              "#fdca26"
             ],
             [
              1,
              "#f0f921"
             ]
            ],
            "type": "heatmapgl"
           }
          ],
          "histogram": [
           {
            "marker": {
             "pattern": {
              "fillmode": "overlay",
              "size": 10,
              "solidity": 0.2
             }
            },
            "type": "histogram"
           }
          ],
          "histogram2d": [
           {
            "colorbar": {
             "outlinewidth": 0,
             "ticks": ""
            },
            "colorscale": [
             [
              0,
              "#0d0887"
             ],
             [
              0.1111111111111111,
              "#46039f"
             ],
             [
              0.2222222222222222,
              "#7201a8"
             ],
             [
              0.3333333333333333,
              "#9c179e"
             ],
             [
              0.4444444444444444,
              "#bd3786"
             ],
             [
              0.5555555555555556,
              "#d8576b"
             ],
             [
              0.6666666666666666,
              "#ed7953"
             ],
             [
              0.7777777777777778,
              "#fb9f3a"
             ],
             [
              0.8888888888888888,
              "#fdca26"
             ],
             [
              1,
              "#f0f921"
             ]
            ],
            "type": "histogram2d"
           }
          ],
          "histogram2dcontour": [
           {
            "colorbar": {
             "outlinewidth": 0,
             "ticks": ""
            },
            "colorscale": [
             [
              0,
              "#0d0887"
             ],
             [
              0.1111111111111111,
              "#46039f"
             ],
             [
              0.2222222222222222,
              "#7201a8"
             ],
             [
              0.3333333333333333,
              "#9c179e"
             ],
             [
              0.4444444444444444,
              "#bd3786"
             ],
             [
              0.5555555555555556,
              "#d8576b"
             ],
             [
              0.6666666666666666,
              "#ed7953"
             ],
             [
              0.7777777777777778,
              "#fb9f3a"
             ],
             [
              0.8888888888888888,
              "#fdca26"
             ],
             [
              1,
              "#f0f921"
             ]
            ],
            "type": "histogram2dcontour"
           }
          ],
          "mesh3d": [
           {
            "colorbar": {
             "outlinewidth": 0,
             "ticks": ""
            },
            "type": "mesh3d"
           }
          ],
          "parcoords": [
           {
            "line": {
             "colorbar": {
              "outlinewidth": 0,
              "ticks": ""
             }
            },
            "type": "parcoords"
           }
          ],
          "pie": [
           {
            "automargin": true,
            "type": "pie"
           }
          ],
          "scatter": [
           {
            "marker": {
             "colorbar": {
              "outlinewidth": 0,
              "ticks": ""
             }
            },
            "type": "scatter"
           }
          ],
          "scatter3d": [
           {
            "line": {
             "colorbar": {
              "outlinewidth": 0,
              "ticks": ""
             }
            },
            "marker": {
             "colorbar": {
              "outlinewidth": 0,
              "ticks": ""
             }
            },
            "type": "scatter3d"
           }
          ],
          "scattercarpet": [
           {
            "marker": {
             "colorbar": {
              "outlinewidth": 0,
              "ticks": ""
             }
            },
            "type": "scattercarpet"
           }
          ],
          "scattergeo": [
           {
            "marker": {
             "colorbar": {
              "outlinewidth": 0,
              "ticks": ""
             }
            },
            "type": "scattergeo"
           }
          ],
          "scattergl": [
           {
            "marker": {
             "colorbar": {
              "outlinewidth": 0,
              "ticks": ""
             }
            },
            "type": "scattergl"
           }
          ],
          "scattermapbox": [
           {
            "marker": {
             "colorbar": {
              "outlinewidth": 0,
              "ticks": ""
             }
            },
            "type": "scattermapbox"
           }
          ],
          "scatterpolar": [
           {
            "marker": {
             "colorbar": {
              "outlinewidth": 0,
              "ticks": ""
             }
            },
            "type": "scatterpolar"
           }
          ],
          "scatterpolargl": [
           {
            "marker": {
             "colorbar": {
              "outlinewidth": 0,
              "ticks": ""
             }
            },
            "type": "scatterpolargl"
           }
          ],
          "scatterternary": [
           {
            "marker": {
             "colorbar": {
              "outlinewidth": 0,
              "ticks": ""
             }
            },
            "type": "scatterternary"
           }
          ],
          "surface": [
           {
            "colorbar": {
             "outlinewidth": 0,
             "ticks": ""
            },
            "colorscale": [
             [
              0,
              "#0d0887"
             ],
             [
              0.1111111111111111,
              "#46039f"
             ],
             [
              0.2222222222222222,
              "#7201a8"
             ],
             [
              0.3333333333333333,
              "#9c179e"
             ],
             [
              0.4444444444444444,
              "#bd3786"
             ],
             [
              0.5555555555555556,
              "#d8576b"
             ],
             [
              0.6666666666666666,
              "#ed7953"
             ],
             [
              0.7777777777777778,
              "#fb9f3a"
             ],
             [
              0.8888888888888888,
              "#fdca26"
             ],
             [
              1,
              "#f0f921"
             ]
            ],
            "type": "surface"
           }
          ],
          "table": [
           {
            "cells": {
             "fill": {
              "color": "#EBF0F8"
             },
             "line": {
              "color": "white"
             }
            },
            "header": {
             "fill": {
              "color": "#C8D4E3"
             },
             "line": {
              "color": "white"
             }
            },
            "type": "table"
           }
          ]
         },
         "layout": {
          "annotationdefaults": {
           "arrowcolor": "#2a3f5f",
           "arrowhead": 0,
           "arrowwidth": 1
          },
          "autotypenumbers": "strict",
          "coloraxis": {
           "colorbar": {
            "outlinewidth": 0,
            "ticks": ""
           }
          },
          "colorscale": {
           "diverging": [
            [
             0,
             "#8e0152"
            ],
            [
             0.1,
             "#c51b7d"
            ],
            [
             0.2,
             "#de77ae"
            ],
            [
             0.3,
             "#f1b6da"
            ],
            [
             0.4,
             "#fde0ef"
            ],
            [
             0.5,
             "#f7f7f7"
            ],
            [
             0.6,
             "#e6f5d0"
            ],
            [
             0.7,
             "#b8e186"
            ],
            [
             0.8,
             "#7fbc41"
            ],
            [
             0.9,
             "#4d9221"
            ],
            [
             1,
             "#276419"
            ]
           ],
           "sequential": [
            [
             0,
             "#0d0887"
            ],
            [
             0.1111111111111111,
             "#46039f"
            ],
            [
             0.2222222222222222,
             "#7201a8"
            ],
            [
             0.3333333333333333,
             "#9c179e"
            ],
            [
             0.4444444444444444,
             "#bd3786"
            ],
            [
             0.5555555555555556,
             "#d8576b"
            ],
            [
             0.6666666666666666,
             "#ed7953"
            ],
            [
             0.7777777777777778,
             "#fb9f3a"
            ],
            [
             0.8888888888888888,
             "#fdca26"
            ],
            [
             1,
             "#f0f921"
            ]
           ],
           "sequentialminus": [
            [
             0,
             "#0d0887"
            ],
            [
             0.1111111111111111,
             "#46039f"
            ],
            [
             0.2222222222222222,
             "#7201a8"
            ],
            [
             0.3333333333333333,
             "#9c179e"
            ],
            [
             0.4444444444444444,
             "#bd3786"
            ],
            [
             0.5555555555555556,
             "#d8576b"
            ],
            [
             0.6666666666666666,
             "#ed7953"
            ],
            [
             0.7777777777777778,
             "#fb9f3a"
            ],
            [
             0.8888888888888888,
             "#fdca26"
            ],
            [
             1,
             "#f0f921"
            ]
           ]
          },
          "colorway": [
           "#636efa",
           "#EF553B",
           "#00cc96",
           "#ab63fa",
           "#FFA15A",
           "#19d3f3",
           "#FF6692",
           "#B6E880",
           "#FF97FF",
           "#FECB52"
          ],
          "font": {
           "color": "#2a3f5f"
          },
          "geo": {
           "bgcolor": "white",
           "lakecolor": "white",
           "landcolor": "#E5ECF6",
           "showlakes": true,
           "showland": true,
           "subunitcolor": "white"
          },
          "hoverlabel": {
           "align": "left"
          },
          "hovermode": "closest",
          "mapbox": {
           "style": "light"
          },
          "paper_bgcolor": "white",
          "plot_bgcolor": "#E5ECF6",
          "polar": {
           "angularaxis": {
            "gridcolor": "white",
            "linecolor": "white",
            "ticks": ""
           },
           "bgcolor": "#E5ECF6",
           "radialaxis": {
            "gridcolor": "white",
            "linecolor": "white",
            "ticks": ""
           }
          },
          "scene": {
           "xaxis": {
            "backgroundcolor": "#E5ECF6",
            "gridcolor": "white",
            "gridwidth": 2,
            "linecolor": "white",
            "showbackground": true,
            "ticks": "",
            "zerolinecolor": "white"
           },
           "yaxis": {
            "backgroundcolor": "#E5ECF6",
            "gridcolor": "white",
            "gridwidth": 2,
            "linecolor": "white",
            "showbackground": true,
            "ticks": "",
            "zerolinecolor": "white"
           },
           "zaxis": {
            "backgroundcolor": "#E5ECF6",
            "gridcolor": "white",
            "gridwidth": 2,
            "linecolor": "white",
            "showbackground": true,
            "ticks": "",
            "zerolinecolor": "white"
           }
          },
          "shapedefaults": {
           "line": {
            "color": "#2a3f5f"
           }
          },
          "ternary": {
           "aaxis": {
            "gridcolor": "white",
            "linecolor": "white",
            "ticks": ""
           },
           "baxis": {
            "gridcolor": "white",
            "linecolor": "white",
            "ticks": ""
           },
           "bgcolor": "#E5ECF6",
           "caxis": {
            "gridcolor": "white",
            "linecolor": "white",
            "ticks": ""
           }
          },
          "title": {
           "x": 0.05
          },
          "xaxis": {
           "automargin": true,
           "gridcolor": "white",
           "linecolor": "white",
           "ticks": "",
           "title": {
            "standoff": 15
           },
           "zerolinecolor": "white",
           "zerolinewidth": 2
          },
          "yaxis": {
           "automargin": true,
           "gridcolor": "white",
           "linecolor": "white",
           "ticks": "",
           "title": {
            "standoff": 15
           },
           "zerolinecolor": "white",
           "zerolinewidth": 2
          }
         }
        },
        "xaxis": {
         "anchor": "y",
         "constrain": "domain",
         "domain": [
          0,
          1
         ],
         "scaleanchor": "y"
        },
        "yaxis": {
         "anchor": "x",
         "autorange": "reversed",
         "constrain": "domain",
         "domain": [
          0,
          1
         ]
        }
       }
      },
      "text/html": [
       "<div>                            <div id=\"8601015a-704e-4a94-9657-91b842a739c5\" class=\"plotly-graph-div\" style=\"height:525px; width:100%;\"></div>            <script type=\"text/javascript\">                require([\"plotly\"], function(Plotly) {                    window.PLOTLYENV=window.PLOTLYENV || {};                                    if (document.getElementById(\"8601015a-704e-4a94-9657-91b842a739c5\")) {                    Plotly.newPlot(                        \"8601015a-704e-4a94-9657-91b842a739c5\",                        [{\"coloraxis\":\"coloraxis\",\"name\":\"0\",\"x\":[0.01,0.02,0.03,0.04,0.05,0.060000000000000005,0.06999999999999999,0.08,0.09,0.09999999999999999,0.11,0.12,0.13,0.14,0.15000000000000002,0.16,0.17,0.18000000000000002,0.19,0.2],\"y\":[0.0,0.01,0.02,0.03,0.04],\"z\":[[1169.251736540008,543.3641942685751,558.0281732562215,572.3443960953891,478.56165498679485,478.5300815928566,481.34820606580394,362.67110549539103,371.7282224172342,382.36933959264576,385.13649007114793,383.05409625872517,397.96383342163097,404.0963547776989,420.1661108900812,420.1661108900812,261.7599405930332,261.7599405930332,265.6673151519118,265.6673151519118],[1277.507161190305,549.8050609733881,682.8321041018975,445.65623701862097,477.0955784203014,478.5300815928566,481.34820606580394,362.67110549539103,371.7282224172342,382.36933959264576,385.13649007114793,546.0267112195877,396.82654086526645,399.0171704493421,420.1661108900812,420.1661108900812,261.7599405930332,261.7599405930332,265.6673151519118,265.6673151519118],[1565.2690090831018,671.6770732241084,682.8321041018975,446.24356294786367,477.0955784203014,478.5300815928566,481.34820606580394,362.67110549539103,371.7282224172342,382.36933959264576,553.3962412987902,546.0267112195877,399.0171704493421,399.0171704493421,420.1661108900812,420.1661108900812,261.7599405930332,261.7599405930332,265.6673151519118,265.6673151519118],[1728.9508399662482,671.0401366359641,681.4752810194746,446.24356294786367,475.23260286552465,478.5300815928566,481.34820606580394,362.67110549539103,371.7282224172342,549.7307465007855,549.5807862620368,546.0267112195877,399.0171704493421,399.0171704493421,420.1661108900812,420.1661108900812,261.7599405930332,261.7599405930332,265.6673151519118,265.6673151519118],[1469.3810449419248,669.7201085597056,681.4752810194746,446.24356294786367,475.23260286552465,478.5300815928566,481.34820606580394,362.67110549539103,526.9771778166025,545.9356623033658,549.5807862620368,546.0267112195877,399.0171704493421,399.0171704493421,420.1661108900812,420.1661108900812,261.7599405930332,261.7599405930332,265.6673151519118,265.6673151519118]],\"type\":\"heatmap\",\"xaxis\":\"x\",\"yaxis\":\"y\",\"hovertemplate\":\"x: %{x}<br>y: %{y}<br>color: %{z}<extra></extra>\"}],                        {\"template\":{\"data\":{\"bar\":[{\"error_x\":{\"color\":\"#2a3f5f\"},\"error_y\":{\"color\":\"#2a3f5f\"},\"marker\":{\"line\":{\"color\":\"#E5ECF6\",\"width\":0.5},\"pattern\":{\"fillmode\":\"overlay\",\"size\":10,\"solidity\":0.2}},\"type\":\"bar\"}],\"barpolar\":[{\"marker\":{\"line\":{\"color\":\"#E5ECF6\",\"width\":0.5},\"pattern\":{\"fillmode\":\"overlay\",\"size\":10,\"solidity\":0.2}},\"type\":\"barpolar\"}],\"carpet\":[{\"aaxis\":{\"endlinecolor\":\"#2a3f5f\",\"gridcolor\":\"white\",\"linecolor\":\"white\",\"minorgridcolor\":\"white\",\"startlinecolor\":\"#2a3f5f\"},\"baxis\":{\"endlinecolor\":\"#2a3f5f\",\"gridcolor\":\"white\",\"linecolor\":\"white\",\"minorgridcolor\":\"white\",\"startlinecolor\":\"#2a3f5f\"},\"type\":\"carpet\"}],\"choropleth\":[{\"colorbar\":{\"outlinewidth\":0,\"ticks\":\"\"},\"type\":\"choropleth\"}],\"contour\":[{\"colorbar\":{\"outlinewidth\":0,\"ticks\":\"\"},\"colorscale\":[[0.0,\"#0d0887\"],[0.1111111111111111,\"#46039f\"],[0.2222222222222222,\"#7201a8\"],[0.3333333333333333,\"#9c179e\"],[0.4444444444444444,\"#bd3786\"],[0.5555555555555556,\"#d8576b\"],[0.6666666666666666,\"#ed7953\"],[0.7777777777777778,\"#fb9f3a\"],[0.8888888888888888,\"#fdca26\"],[1.0,\"#f0f921\"]],\"type\":\"contour\"}],\"contourcarpet\":[{\"colorbar\":{\"outlinewidth\":0,\"ticks\":\"\"},\"type\":\"contourcarpet\"}],\"heatmap\":[{\"colorbar\":{\"outlinewidth\":0,\"ticks\":\"\"},\"colorscale\":[[0.0,\"#0d0887\"],[0.1111111111111111,\"#46039f\"],[0.2222222222222222,\"#7201a8\"],[0.3333333333333333,\"#9c179e\"],[0.4444444444444444,\"#bd3786\"],[0.5555555555555556,\"#d8576b\"],[0.6666666666666666,\"#ed7953\"],[0.7777777777777778,\"#fb9f3a\"],[0.8888888888888888,\"#fdca26\"],[1.0,\"#f0f921\"]],\"type\":\"heatmap\"}],\"heatmapgl\":[{\"colorbar\":{\"outlinewidth\":0,\"ticks\":\"\"},\"colorscale\":[[0.0,\"#0d0887\"],[0.1111111111111111,\"#46039f\"],[0.2222222222222222,\"#7201a8\"],[0.3333333333333333,\"#9c179e\"],[0.4444444444444444,\"#bd3786\"],[0.5555555555555556,\"#d8576b\"],[0.6666666666666666,\"#ed7953\"],[0.7777777777777778,\"#fb9f3a\"],[0.8888888888888888,\"#fdca26\"],[1.0,\"#f0f921\"]],\"type\":\"heatmapgl\"}],\"histogram\":[{\"marker\":{\"pattern\":{\"fillmode\":\"overlay\",\"size\":10,\"solidity\":0.2}},\"type\":\"histogram\"}],\"histogram2d\":[{\"colorbar\":{\"outlinewidth\":0,\"ticks\":\"\"},\"colorscale\":[[0.0,\"#0d0887\"],[0.1111111111111111,\"#46039f\"],[0.2222222222222222,\"#7201a8\"],[0.3333333333333333,\"#9c179e\"],[0.4444444444444444,\"#bd3786\"],[0.5555555555555556,\"#d8576b\"],[0.6666666666666666,\"#ed7953\"],[0.7777777777777778,\"#fb9f3a\"],[0.8888888888888888,\"#fdca26\"],[1.0,\"#f0f921\"]],\"type\":\"histogram2d\"}],\"histogram2dcontour\":[{\"colorbar\":{\"outlinewidth\":0,\"ticks\":\"\"},\"colorscale\":[[0.0,\"#0d0887\"],[0.1111111111111111,\"#46039f\"],[0.2222222222222222,\"#7201a8\"],[0.3333333333333333,\"#9c179e\"],[0.4444444444444444,\"#bd3786\"],[0.5555555555555556,\"#d8576b\"],[0.6666666666666666,\"#ed7953\"],[0.7777777777777778,\"#fb9f3a\"],[0.8888888888888888,\"#fdca26\"],[1.0,\"#f0f921\"]],\"type\":\"histogram2dcontour\"}],\"mesh3d\":[{\"colorbar\":{\"outlinewidth\":0,\"ticks\":\"\"},\"type\":\"mesh3d\"}],\"parcoords\":[{\"line\":{\"colorbar\":{\"outlinewidth\":0,\"ticks\":\"\"}},\"type\":\"parcoords\"}],\"pie\":[{\"automargin\":true,\"type\":\"pie\"}],\"scatter\":[{\"marker\":{\"colorbar\":{\"outlinewidth\":0,\"ticks\":\"\"}},\"type\":\"scatter\"}],\"scatter3d\":[{\"line\":{\"colorbar\":{\"outlinewidth\":0,\"ticks\":\"\"}},\"marker\":{\"colorbar\":{\"outlinewidth\":0,\"ticks\":\"\"}},\"type\":\"scatter3d\"}],\"scattercarpet\":[{\"marker\":{\"colorbar\":{\"outlinewidth\":0,\"ticks\":\"\"}},\"type\":\"scattercarpet\"}],\"scattergeo\":[{\"marker\":{\"colorbar\":{\"outlinewidth\":0,\"ticks\":\"\"}},\"type\":\"scattergeo\"}],\"scattergl\":[{\"marker\":{\"colorbar\":{\"outlinewidth\":0,\"ticks\":\"\"}},\"type\":\"scattergl\"}],\"scattermapbox\":[{\"marker\":{\"colorbar\":{\"outlinewidth\":0,\"ticks\":\"\"}},\"type\":\"scattermapbox\"}],\"scatterpolar\":[{\"marker\":{\"colorbar\":{\"outlinewidth\":0,\"ticks\":\"\"}},\"type\":\"scatterpolar\"}],\"scatterpolargl\":[{\"marker\":{\"colorbar\":{\"outlinewidth\":0,\"ticks\":\"\"}},\"type\":\"scatterpolargl\"}],\"scatterternary\":[{\"marker\":{\"colorbar\":{\"outlinewidth\":0,\"ticks\":\"\"}},\"type\":\"scatterternary\"}],\"surface\":[{\"colorbar\":{\"outlinewidth\":0,\"ticks\":\"\"},\"colorscale\":[[0.0,\"#0d0887\"],[0.1111111111111111,\"#46039f\"],[0.2222222222222222,\"#7201a8\"],[0.3333333333333333,\"#9c179e\"],[0.4444444444444444,\"#bd3786\"],[0.5555555555555556,\"#d8576b\"],[0.6666666666666666,\"#ed7953\"],[0.7777777777777778,\"#fb9f3a\"],[0.8888888888888888,\"#fdca26\"],[1.0,\"#f0f921\"]],\"type\":\"surface\"}],\"table\":[{\"cells\":{\"fill\":{\"color\":\"#EBF0F8\"},\"line\":{\"color\":\"white\"}},\"header\":{\"fill\":{\"color\":\"#C8D4E3\"},\"line\":{\"color\":\"white\"}},\"type\":\"table\"}]},\"layout\":{\"annotationdefaults\":{\"arrowcolor\":\"#2a3f5f\",\"arrowhead\":0,\"arrowwidth\":1},\"autotypenumbers\":\"strict\",\"coloraxis\":{\"colorbar\":{\"outlinewidth\":0,\"ticks\":\"\"}},\"colorscale\":{\"diverging\":[[0,\"#8e0152\"],[0.1,\"#c51b7d\"],[0.2,\"#de77ae\"],[0.3,\"#f1b6da\"],[0.4,\"#fde0ef\"],[0.5,\"#f7f7f7\"],[0.6,\"#e6f5d0\"],[0.7,\"#b8e186\"],[0.8,\"#7fbc41\"],[0.9,\"#4d9221\"],[1,\"#276419\"]],\"sequential\":[[0.0,\"#0d0887\"],[0.1111111111111111,\"#46039f\"],[0.2222222222222222,\"#7201a8\"],[0.3333333333333333,\"#9c179e\"],[0.4444444444444444,\"#bd3786\"],[0.5555555555555556,\"#d8576b\"],[0.6666666666666666,\"#ed7953\"],[0.7777777777777778,\"#fb9f3a\"],[0.8888888888888888,\"#fdca26\"],[1.0,\"#f0f921\"]],\"sequentialminus\":[[0.0,\"#0d0887\"],[0.1111111111111111,\"#46039f\"],[0.2222222222222222,\"#7201a8\"],[0.3333333333333333,\"#9c179e\"],[0.4444444444444444,\"#bd3786\"],[0.5555555555555556,\"#d8576b\"],[0.6666666666666666,\"#ed7953\"],[0.7777777777777778,\"#fb9f3a\"],[0.8888888888888888,\"#fdca26\"],[1.0,\"#f0f921\"]]},\"colorway\":[\"#636efa\",\"#EF553B\",\"#00cc96\",\"#ab63fa\",\"#FFA15A\",\"#19d3f3\",\"#FF6692\",\"#B6E880\",\"#FF97FF\",\"#FECB52\"],\"font\":{\"color\":\"#2a3f5f\"},\"geo\":{\"bgcolor\":\"white\",\"lakecolor\":\"white\",\"landcolor\":\"#E5ECF6\",\"showlakes\":true,\"showland\":true,\"subunitcolor\":\"white\"},\"hoverlabel\":{\"align\":\"left\"},\"hovermode\":\"closest\",\"mapbox\":{\"style\":\"light\"},\"paper_bgcolor\":\"white\",\"plot_bgcolor\":\"#E5ECF6\",\"polar\":{\"angularaxis\":{\"gridcolor\":\"white\",\"linecolor\":\"white\",\"ticks\":\"\"},\"bgcolor\":\"#E5ECF6\",\"radialaxis\":{\"gridcolor\":\"white\",\"linecolor\":\"white\",\"ticks\":\"\"}},\"scene\":{\"xaxis\":{\"backgroundcolor\":\"#E5ECF6\",\"gridcolor\":\"white\",\"gridwidth\":2,\"linecolor\":\"white\",\"showbackground\":true,\"ticks\":\"\",\"zerolinecolor\":\"white\"},\"yaxis\":{\"backgroundcolor\":\"#E5ECF6\",\"gridcolor\":\"white\",\"gridwidth\":2,\"linecolor\":\"white\",\"showbackground\":true,\"ticks\":\"\",\"zerolinecolor\":\"white\"},\"zaxis\":{\"backgroundcolor\":\"#E5ECF6\",\"gridcolor\":\"white\",\"gridwidth\":2,\"linecolor\":\"white\",\"showbackground\":true,\"ticks\":\"\",\"zerolinecolor\":\"white\"}},\"shapedefaults\":{\"line\":{\"color\":\"#2a3f5f\"}},\"ternary\":{\"aaxis\":{\"gridcolor\":\"white\",\"linecolor\":\"white\",\"ticks\":\"\"},\"baxis\":{\"gridcolor\":\"white\",\"linecolor\":\"white\",\"ticks\":\"\"},\"bgcolor\":\"#E5ECF6\",\"caxis\":{\"gridcolor\":\"white\",\"linecolor\":\"white\",\"ticks\":\"\"}},\"title\":{\"x\":0.05},\"xaxis\":{\"automargin\":true,\"gridcolor\":\"white\",\"linecolor\":\"white\",\"ticks\":\"\",\"title\":{\"standoff\":15},\"zerolinecolor\":\"white\",\"zerolinewidth\":2},\"yaxis\":{\"automargin\":true,\"gridcolor\":\"white\",\"linecolor\":\"white\",\"ticks\":\"\",\"title\":{\"standoff\":15},\"zerolinecolor\":\"white\",\"zerolinewidth\":2}}},\"xaxis\":{\"anchor\":\"y\",\"domain\":[0.0,1.0],\"scaleanchor\":\"y\",\"constrain\":\"domain\"},\"yaxis\":{\"anchor\":\"x\",\"domain\":[0.0,1.0],\"autorange\":\"reversed\",\"constrain\":\"domain\"},\"coloraxis\":{\"colorscale\":[[0.0,\"#0d0887\"],[0.1111111111111111,\"#46039f\"],[0.2222222222222222,\"#7201a8\"],[0.3333333333333333,\"#9c179e\"],[0.4444444444444444,\"#bd3786\"],[0.5555555555555556,\"#d8576b\"],[0.6666666666666666,\"#ed7953\"],[0.7777777777777778,\"#fb9f3a\"],[0.8888888888888888,\"#fdca26\"],[1.0,\"#f0f921\"]]},\"margin\":{\"t\":60}},                        {\"responsive\": true}                    ).then(function(){\n",
       "                            \n",
       "var gd = document.getElementById('8601015a-704e-4a94-9657-91b842a739c5');\n",
       "var x = new MutationObserver(function (mutations, observer) {{\n",
       "        var display = window.getComputedStyle(gd).display;\n",
       "        if (!display || display === 'none') {{\n",
       "            console.log([gd, 'removed!']);\n",
       "            Plotly.purge(gd);\n",
       "            observer.disconnect();\n",
       "        }}\n",
       "}});\n",
       "\n",
       "// Listen for the removal of the full notebook cells\n",
       "var notebookContainer = gd.closest('#notebook-container');\n",
       "if (notebookContainer) {{\n",
       "    x.observe(notebookContainer, {childList: true});\n",
       "}}\n",
       "\n",
       "// Listen for the clearing of the current output cell\n",
       "var outputEl = gd.closest('.output');\n",
       "if (outputEl) {{\n",
       "    x.observe(outputEl, {childList: true});\n",
       "}}\n",
       "\n",
       "                        })                };                });            </script>        </div>"
      ]
     },
     "metadata": {},
     "output_type": "display_data"
    }
   ],
   "source": [
    "px.imshow(grid_space)"
   ]
  },
  {
   "cell_type": "code",
   "execution_count": null,
   "metadata": {},
   "outputs": [],
   "source": []
  },
  {
   "cell_type": "code",
   "execution_count": null,
   "metadata": {},
   "outputs": [],
   "source": []
  },
  {
   "cell_type": "code",
   "execution_count": null,
   "metadata": {},
   "outputs": [],
   "source": []
  }
 ],
 "metadata": {
  "interpreter": {
   "hash": "a7801a1fce19b4dbca8b7bce4059e552648312323ed9d108616a9100a6d7a4a9"
  },
  "kernelspec": {
   "display_name": "Python 3.10.0 64-bit",
   "language": "python",
   "name": "python3"
  },
  "language_info": {
   "codemirror_mode": {
    "name": "ipython",
    "version": 3
   },
   "file_extension": ".py",
   "mimetype": "text/x-python",
   "name": "python",
   "nbconvert_exporter": "python",
   "pygments_lexer": "ipython3",
   "version": "3.8.10"
  },
  "orig_nbformat": 4
 },
 "nbformat": 4,
 "nbformat_minor": 2
}
